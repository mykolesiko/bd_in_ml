{
  "nbformat": 4,
  "nbformat_minor": 0,
  "metadata": {
    "colab": {
      "name": "test.ipynb",
      "provenance": []
    },
    "kernelspec": {
      "name": "python3",
      "display_name": "Python 3"
    },
    "language_info": {
      "name": "python"
    }
  },
  "cells": [
    {
      "cell_type": "code",
      "metadata": {
        "id": "Omlt3IZUzL3C"
      },
      "source": [
        "import pandas as pd\n",
        "\n",
        "data = pd.read_csv(\"/content/drive/MyDrive/MADE/semester3/BigData/DZ1/AB_NYC_2019.csv\")"
      ],
      "execution_count": null,
      "outputs": []
    },
    {
      "cell_type": "code",
      "metadata": {
        "id": "UikwLuPW97Tu",
        "colab": {
          "base_uri": "https://localhost:8080/"
        },
        "outputId": "4d9314c2-8304-426a-8c1d-64e1f64ac49c"
      },
      "source": [
        "price_mean = data['price'].values.mean()\n",
        "price_var = data['price'].values.var()\n",
        "print(price_mean, price_var)"
      ],
      "execution_count": null,
      "outputs": [
        {
          "output_type": "stream",
          "name": "stdout",
          "text": [
            "152.7206871868289 57672.84569843359\n"
          ]
        }
      ]
    },
    {
      "cell_type": "code",
      "metadata": {
        "colab": {
          "base_uri": "https://localhost:8080/"
        },
        "id": "o8k67GoBpKJM",
        "outputId": "2d3f00fa-643d-4391-8553-408b0c065236"
      },
      "source": [
        "print(data['price'].values.sum())"
      ],
      "execution_count": null,
      "outputs": [
        {
          "output_type": "stream",
          "name": "stdout",
          "text": [
            "7467278\n"
          ]
        }
      ]
    },
    {
      "cell_type": "code",
      "metadata": {
        "id": "jQ45YVfYpVhM"
      },
      "source": [
        "data['price'].to_csv(\"prices.csv\", index=None)"
      ],
      "execution_count": null,
      "outputs": []
    }
  ]
}