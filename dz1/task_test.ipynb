{
 "cells": [
  {
   "cell_type": "code",
   "execution_count": 1,
   "id": "fcc8c4a2",
   "metadata": {},
   "outputs": [],
   "source": [
    "import pandas as pd\n",
    "import seaborn as sns\n",
    "\n",
    "import matplotlib.pyplot as plt\n",
    "from matplotlib import cycler\n",
    "plt.rcParams['figure.figsize'] = [12, 8]\n",
    "plt.rcParams['figure.dpi'] = 100 \n",
    "colors = cycler('color',\n",
    "                ['#EE6666', '#3388BB', '#9988DD',\n",
    "                 '#EECC55', '#88BB44', '#FFBBBB'])\n",
    "plt.rc('axes', facecolor='#E6E6E6', edgecolor='none',\n",
    "       axisbelow=True, grid=True, prop_cycle=colors)\n",
    "plt.rc('grid', color='w', linestyle='solid')\n",
    "plt.rc('xtick', direction='out', color='gray')\n",
    "plt.rc('ytick', direction='out', color='gray')\n",
    "plt.rc('patch', edgecolor='#E6E6E6')\n",
    "plt.rc('lines', linewidth=2)"
   ]
  },
  {
   "cell_type": "code",
   "execution_count": 2,
   "id": "f154f9e7",
   "metadata": {},
   "outputs": [],
   "source": [
    "url_data = \"/home/dm/Документы/разное/mail_test/python_task_dataset.csv\""
   ]
  },
  {
   "cell_type": "code",
   "execution_count": 3,
   "id": "4951c6b0",
   "metadata": {},
   "outputs": [
    {
     "data": {
      "text/plain": [
       "(265403, 8)"
      ]
     },
     "execution_count": 3,
     "metadata": {},
     "output_type": "execute_result"
    }
   ],
   "source": [
    "df = pd.read_csv(url_data)\n",
    "\n",
    "df.shape"
   ]
  },
  {
   "cell_type": "markdown",
   "id": "e515c6ec",
   "metadata": {},
   "source": [
    "### <div style='background:#2b9084;color:white;padding:0.5em;border-radius:0.2em'>Предварительный просмотр данных</div>"
   ]
  },
  {
   "cell_type": "code",
   "execution_count": 4,
   "id": "a3c1091b",
   "metadata": {},
   "outputs": [
    {
     "name": "stdout",
     "output_type": "stream",
     "text": [
      "<class 'pandas.core.frame.DataFrame'>\n",
      "RangeIndex: 265403 entries, 0 to 265402\n",
      "Data columns (total 8 columns):\n",
      " #   Column       Non-Null Count   Dtype \n",
      "---  ------       --------------   ----- \n",
      " 0   device_id    265403 non-null  int64 \n",
      " 1   device_type  265403 non-null  object\n",
      " 2   datetime     265403 non-null  object\n",
      " 3   ev_type      265403 non-null  int64 \n",
      " 4   adv_type     265403 non-null  object\n",
      " 5   region_id    265403 non-null  int64 \n",
      " 6   age          265403 non-null  int64 \n",
      " 7   gender       265403 non-null  int64 \n",
      "dtypes: int64(5), object(3)\n",
      "memory usage: 16.2+ MB\n"
     ]
    }
   ],
   "source": [
    "df.info()"
   ]
  },
  {
   "cell_type": "code",
   "execution_count": 5,
   "id": "2a3464a9",
   "metadata": {},
   "outputs": [
    {
     "data": {
      "text/html": [
       "<div>\n",
       "<style scoped>\n",
       "    .dataframe tbody tr th:only-of-type {\n",
       "        vertical-align: middle;\n",
       "    }\n",
       "\n",
       "    .dataframe tbody tr th {\n",
       "        vertical-align: top;\n",
       "    }\n",
       "\n",
       "    .dataframe thead th {\n",
       "        text-align: right;\n",
       "    }\n",
       "</style>\n",
       "<table border=\"1\" class=\"dataframe\">\n",
       "  <thead>\n",
       "    <tr style=\"text-align: right;\">\n",
       "      <th></th>\n",
       "      <th>device_id</th>\n",
       "      <th>device_type</th>\n",
       "      <th>datetime</th>\n",
       "      <th>ev_type</th>\n",
       "      <th>adv_type</th>\n",
       "      <th>region_id</th>\n",
       "      <th>age</th>\n",
       "      <th>gender</th>\n",
       "    </tr>\n",
       "  </thead>\n",
       "  <tbody>\n",
       "    <tr>\n",
       "      <th>0</th>\n",
       "      <td>100001</td>\n",
       "      <td>android</td>\n",
       "      <td>2019-03-01 15:58:02</td>\n",
       "      <td>0</td>\n",
       "      <td>multi</td>\n",
       "      <td>2</td>\n",
       "      <td>14</td>\n",
       "      <td>2</td>\n",
       "    </tr>\n",
       "    <tr>\n",
       "      <th>1</th>\n",
       "      <td>100001</td>\n",
       "      <td>android</td>\n",
       "      <td>2019-03-01 17:13:53</td>\n",
       "      <td>0</td>\n",
       "      <td>multi</td>\n",
       "      <td>2</td>\n",
       "      <td>14</td>\n",
       "      <td>2</td>\n",
       "    </tr>\n",
       "  </tbody>\n",
       "</table>\n",
       "</div>"
      ],
      "text/plain": [
       "   device_id device_type             datetime  ev_type adv_type  region_id  \\\n",
       "0     100001     android  2019-03-01 15:58:02        0    multi          2   \n",
       "1     100001     android  2019-03-01 17:13:53        0    multi          2   \n",
       "\n",
       "   age  gender  \n",
       "0   14       2  \n",
       "1   14       2  "
      ]
     },
     "execution_count": 5,
     "metadata": {},
     "output_type": "execute_result"
    }
   ],
   "source": [
    "df.head(2)"
   ]
  },
  {
   "cell_type": "code",
   "execution_count": 6,
   "id": "6b4f32e7",
   "metadata": {},
   "outputs": [
    {
     "data": {
      "text/html": [
       "<div>\n",
       "<style scoped>\n",
       "    .dataframe tbody tr th:only-of-type {\n",
       "        vertical-align: middle;\n",
       "    }\n",
       "\n",
       "    .dataframe tbody tr th {\n",
       "        vertical-align: top;\n",
       "    }\n",
       "\n",
       "    .dataframe thead th {\n",
       "        text-align: right;\n",
       "    }\n",
       "</style>\n",
       "<table border=\"1\" class=\"dataframe\">\n",
       "  <thead>\n",
       "    <tr style=\"text-align: right;\">\n",
       "      <th></th>\n",
       "      <th>device_id</th>\n",
       "      <th>device_type</th>\n",
       "      <th>datetime</th>\n",
       "      <th>ev_type</th>\n",
       "      <th>adv_type</th>\n",
       "      <th>region_id</th>\n",
       "      <th>age</th>\n",
       "      <th>gender</th>\n",
       "    </tr>\n",
       "  </thead>\n",
       "  <tbody>\n",
       "    <tr>\n",
       "      <th>265401</th>\n",
       "      <td>287157</td>\n",
       "      <td>android</td>\n",
       "      <td>2019-03-08 15:48:19</td>\n",
       "      <td>0</td>\n",
       "      <td>video</td>\n",
       "      <td>1</td>\n",
       "      <td>25</td>\n",
       "      <td>1</td>\n",
       "    </tr>\n",
       "    <tr>\n",
       "      <th>265402</th>\n",
       "      <td>287158</td>\n",
       "      <td>android</td>\n",
       "      <td>2019-03-08 15:17:29</td>\n",
       "      <td>0</td>\n",
       "      <td>video</td>\n",
       "      <td>2</td>\n",
       "      <td>29</td>\n",
       "      <td>1</td>\n",
       "    </tr>\n",
       "  </tbody>\n",
       "</table>\n",
       "</div>"
      ],
      "text/plain": [
       "        device_id device_type             datetime  ev_type adv_type  \\\n",
       "265401     287157     android  2019-03-08 15:48:19        0    video   \n",
       "265402     287158     android  2019-03-08 15:17:29        0    video   \n",
       "\n",
       "        region_id  age  gender  \n",
       "265401          1   25       1  \n",
       "265402          2   29       1  "
      ]
     },
     "execution_count": 6,
     "metadata": {},
     "output_type": "execute_result"
    }
   ],
   "source": [
    "df.tail(2)"
   ]
  },
  {
   "cell_type": "code",
   "execution_count": 7,
   "id": "919740b4",
   "metadata": {},
   "outputs": [
    {
     "name": "stdout",
     "output_type": "stream",
     "text": [
      "Данные собраны за период с: 2019-03-01 00:00:01 по 2019-03-09 23:59:56\n"
     ]
    }
   ],
   "source": [
    "df_tmp = df.sort_values('datetime').reset_index()\n",
    "start_date = df_tmp['datetime'].iloc[0]\n",
    "finish_date = df_tmp['datetime'].iloc[-1]\n",
    "\n",
    "print(f\"Данные собраны за период с: {start_date} по {finish_date}\")"
   ]
  },
  {
   "cell_type": "code",
   "execution_count": 8,
   "id": "498f4b49",
   "metadata": {},
   "outputs": [
    {
     "name": "stdout",
     "output_type": "stream",
     "text": [
      "Количество разных девайсов: 2\n",
      "Типы девайсов: ['android' 'ios']\n"
     ]
    }
   ],
   "source": [
    "print(f\"Количество разных девайсов: {df['device_type'].nunique()}\")\n",
    "print(f\"Типы девайсов: {df['device_type'].unique()}\")"
   ]
  },
  {
   "cell_type": "code",
   "execution_count": 9,
   "id": "d8953741",
   "metadata": {},
   "outputs": [
    {
     "data": {
      "image/png": "[encoded data removed]",
      "text/plain": [
       "<Figure size 1200x800 with 1 Axes>"
      ]
     },
     "metadata": {},
     "output_type": "display_data"
    }
   ],
   "source": [
    "labels = ['android', 'ios']\n",
    "plt.pie(df['device_type'].value_counts(), startangle=90, autopct='%1.1f%%', labels=labels)\n",
    "plt.title(\"Процентное соотношение девайсов\")\n",
    "plt.show()"
   ]
  },
  {
   "cell_type": "code",
   "execution_count": 10,
   "id": "d2ac9f9d",
   "metadata": {},
   "outputs": [
    {
     "name": "stdout",
     "output_type": "stream",
     "text": [
      "Кол-во типов рекламы: 2\n",
      "Типы рекламы: ['multi' 'video']\n"
     ]
    }
   ],
   "source": [
    "print(f\"Кол-во типов рекламы: {df['adv_type'].nunique()}\")\n",
    "print(f\"Типы рекламы: {df['adv_type'].unique()}\")"
   ]
  },
  {
   "cell_type": "code",
   "execution_count": 11,
   "id": "12bb7290",
   "metadata": {},
   "outputs": [
    {
     "data": {
      "image/png": "[encoded data removed]",
      "text/plain": [
       "<Figure size 1200x800 with 1 Axes>"
      ]
     },
     "metadata": {},
     "output_type": "display_data"
    }
   ],
   "source": [
    "labels = ['video', 'multi']\n",
    "plt.pie(df['adv_type'].value_counts(), startangle=90, autopct='%1.1f%%', labels=labels)\n",
    "plt.title(\"Процентное соотношение типов рекламы\")\n",
    "plt.show()"
   ]
  },
  {
   "cell_type": "code",
   "execution_count": 12,
   "id": "0ebeb9af",
   "metadata": {},
   "outputs": [
    {
     "data": {
      "image/png": "[encoded data removed]",
      "text/plain": [
       "<Figure size 1200x800 with 1 Axes>"
      ]
     },
     "metadata": {},
     "output_type": "display_data"
    }
   ],
   "source": [
    "labels = ['Женщины', 'Неизвестно', 'Мужчины']\n",
    "plt.pie(df['gender'].value_counts(), startangle=90, autopct='%1.1f%%', labels=labels)\n",
    "plt.title(\"Процентное соотношение полов пользователей\")\n",
    "plt.show()"
   ]
  },
  {
   "cell_type": "markdown",
   "id": "29566252",
   "metadata": {},
   "source": [
    "**Не ясно, что является 0. Предположим что это, согласно новой этике, Небинарный человек (возможно просто неизвестен пол человека)**"
   ]
  },
  {
   "cell_type": "code",
   "execution_count": 13,
   "id": "54824950",
   "metadata": {},
   "outputs": [
    {
     "data": {
      "image/png": "[encoded data removed]",
      "text/plain": [
       "<Figure size 1200x800 with 1 Axes>"
      ]
     },
     "metadata": {
      "needs_background": "dark"
     },
     "output_type": "display_data"
    }
   ],
   "source": [
    "plt.hist(df['age'], bins=40)\n",
    "plt.title(\"Распределение по возрастам\")\n",
    "plt.show()"
   ]
  },
  {
   "cell_type": "code",
   "execution_count": 14,
   "id": "af6791c3",
   "metadata": {},
   "outputs": [
    {
     "data": {
      "text/plain": [
       "1    211011\n",
       "2     54392\n",
       "Name: region_id, dtype: int64"
      ]
     },
     "execution_count": 14,
     "metadata": {},
     "output_type": "execute_result"
    }
   ],
   "source": [
    "df['region_id'].value_counts()"
   ]
  },
  {
   "cell_type": "markdown",
   "id": "e077cfe4",
   "metadata": {},
   "source": [
    "В первом регионе живет примрено в 4 раза больше людей, чем во втором"
   ]
  },
  {
   "cell_type": "code",
   "execution_count": 15,
   "id": "e5e5d22a",
   "metadata": {},
   "outputs": [
    {
     "data": {
      "image/png": "[encoded data removed]",
      "text/plain": [
       "<Figure size 1200x800 with 2 Axes>"
      ]
     },
     "metadata": {
      "needs_background": "dark"
     },
     "output_type": "display_data"
    }
   ],
   "source": [
    "sns.heatmap(df.corr(), xticklabels=df.corr().columns, yticklabels=df.corr().columns, cmap='RdYlGn', center=0, annot=True)\n",
    "\n",
    "plt.title('Correlogram of mtcars', fontsize=22)\n",
    "\n",
    "plt.show()"
   ]
  },
  {
   "cell_type": "markdown",
   "id": "cb5e85b8",
   "metadata": {},
   "source": [
    "Предварительная оценка:\n",
    "\n",
    "    - классы несбалансированы\n",
    "    - на первый взгляд больше женщины, которые пользуются андройдом составляют большую группу\n",
    "    - необходимо посмотреть на показы/клики и регион"
   ]
  },
  {
   "cell_type": "markdown",
   "id": "820db415",
   "metadata": {},
   "source": [
    "### <div style='background:#2b9084;color:white;padding:0.5em;border-radius:0.2em'>Пользователи женщины</div>"
   ]
  },
  {
   "cell_type": "code",
   "execution_count": 16,
   "id": "28966029",
   "metadata": {},
   "outputs": [
    {
     "name": "stdout",
     "output_type": "stream",
     "text": [
      "процентное отношение кол-ва женщин в датасете: 85.39\n"
     ]
    }
   ],
   "source": [
    "logic_1 = df['gender'] == 1\n",
    "\n",
    "df_w = df[logic_1]\n",
    "\n",
    "print(f\"процентное отношение кол-ва женщин в датасете: {round(df_w.shape[0] / df.shape[0] * 100, 2)}\")"
   ]
  },
  {
   "cell_type": "code",
   "execution_count": 17,
   "id": "582e59b0",
   "metadata": {},
   "outputs": [
    {
     "name": "stdout",
     "output_type": "stream",
     "text": [
      "процентное отношение кол-ва женщин в датасете, которые пользуются андройдом: 71.52\n"
     ]
    }
   ],
   "source": [
    "logic_2 = df['device_type'] == \"android\"\n",
    "\n",
    "df_w_a = df[logic_1 & logic_2]\n",
    "\n",
    "print(f\"процентное отношение кол-ва женщин в датасете, которые пользуются андройдом: {round(df_w_a.shape[0] / df.shape[0] * 100, 2)}\")"
   ]
  },
  {
   "cell_type": "code",
   "execution_count": 18,
   "id": "64662958",
   "metadata": {},
   "outputs": [
    {
     "data": {
      "image/png": "[encoded data removed]",
      "text/plain": [
       "<Figure size 1200x800 with 1 Axes>"
      ]
     },
     "metadata": {},
     "output_type": "display_data"
    }
   ],
   "source": [
    "labels = ['video', 'multi']\n",
    "plt.pie(df_w_a['adv_type'].value_counts(), startangle=90, autopct='%1.1f%%', labels=labels)\n",
    "plt.title(\"Процентное соотношение типов рекламы для женщин\")\n",
    "plt.show()"
   ]
  },
  {
   "cell_type": "code",
   "execution_count": 19,
   "id": "0d535434",
   "metadata": {},
   "outputs": [
    {
     "name": "stdout",
     "output_type": "stream",
     "text": [
      "процентное отношение кол-ва женщин в датасете, которые пользуются андройдом: 66.76\n"
     ]
    }
   ],
   "source": [
    "logic_3 = df['adv_type'] == \"video\"\n",
    "\n",
    "df_w_a_v = df[logic_1 & logic_2 & logic_3]\n",
    "\n",
    "print(f\"процентное отношение кол-ва женщин в датасете, которые пользуются андройдом: {round(df_w_a_v.shape[0] / df.shape[0] * 100, 2)}\")"
   ]
  },
  {
   "cell_type": "markdown",
   "id": "1fed8569",
   "metadata": {},
   "source": [
    "Это довольно большой процент людей. Теперь поймем:\n",
    "\n",
    "    1) из какого они региона\n",
    "    2) происходит показ и клик\n",
    "    3) в каком возрасте чаще смотрят\n"
   ]
  },
  {
   "cell_type": "markdown",
   "id": "4dc1b475",
   "metadata": {},
   "source": [
    "#### <div style='background:#2b9011;color:white;padding:0.5em;border-radius:0.2em'>1) Регион</div>"
   ]
  },
  {
   "cell_type": "code",
   "execution_count": 20,
   "id": "8842388d",
   "metadata": {},
   "outputs": [
    {
     "data": {
      "image/png": "[encoded data removed]",
      "text/plain": [
       "<Figure size 1200x800 with 1 Axes>"
      ]
     },
     "metadata": {},
     "output_type": "display_data"
    }
   ],
   "source": [
    "labels = ['1', '2']\n",
    "plt.pie(df_w_a_v['region_id'].value_counts(), startangle=90, autopct='%1.1f%%', labels=labels)\n",
    "plt.title(\"Процентное соотношение регионов для выделенной нами группы\")\n",
    "plt.show()"
   ]
  },
  {
   "cell_type": "markdown",
   "id": "29b14b21",
   "metadata": {},
   "source": [
    "Для выделенной нами группы сохраняется пропорция - 80% людей живет в первом регионе"
   ]
  },
  {
   "cell_type": "code",
   "execution_count": 21,
   "id": "f16109f0",
   "metadata": {},
   "outputs": [
    {
     "name": "stdout",
     "output_type": "stream",
     "text": [
      "процентное отношение кол-ва женщин в датасете, которые пользуются андройдом: 53.05\n"
     ]
    }
   ],
   "source": [
    "logic_4 = df['region_id'] == 1\n",
    "\n",
    "df_w_a_v_r = df[logic_1 & logic_2 & logic_3 & logic_4]\n",
    "\n",
    "print(f\"процентное отношение кол-ва женщин в датасете, которые пользуются андройдом: {round(df_w_a_v_r.shape[0] / df.shape[0] * 100, 2)}\")"
   ]
  },
  {
   "cell_type": "markdown",
   "id": "732ae6e3",
   "metadata": {},
   "source": [
    "#### <div style='background:#2b9011;color:white;padding:0.5em;border-radius:0.2em'>2) Показ/клик</div>"
   ]
  },
  {
   "cell_type": "code",
   "execution_count": 22,
   "id": "711e5b8d",
   "metadata": {},
   "outputs": [
    {
     "data": {
      "image/png": "[encoded data removed]",
      "text/plain": [
       "<Figure size 1200x800 with 1 Axes>"
      ]
     },
     "metadata": {},
     "output_type": "display_data"
    }
   ],
   "source": [
    "labels = ['Показ', 'Клик']\n",
    "plt.pie(df_w_a_v_r['ev_type'].value_counts(), startangle=90, autopct='%1.1f%%', labels=labels)\n",
    "plt.title(\"Процентное соотношение кликов и показов\")\n",
    "plt.show()"
   ]
  },
  {
   "cell_type": "markdown",
   "id": "ec0803de",
   "metadata": {},
   "source": [
    "Только 2 процента кликают на рекламу"
   ]
  },
  {
   "cell_type": "code",
   "execution_count": 23,
   "id": "f36d5227",
   "metadata": {},
   "outputs": [
    {
     "name": "stdout",
     "output_type": "stream",
     "text": [
      "процентное отношение кол-ва женщин в датасете, которые пользуются андройдом и кликают: 2.02\n"
     ]
    }
   ],
   "source": [
    "logic_5 = df['ev_type'] == 1\n",
    "\n",
    "df_w_a_v_r_e = df[logic_1 & logic_2 & logic_3 & logic_4 & logic_5]\n",
    "\n",
    "print(f\"процентное отношение кол-ва женщин в датасете, которые пользуются андройдом и кликают: {round(df_w_a_v_r_e.shape[0] / df_w_a_v_r.shape[0] * 100, 2)}\")"
   ]
  },
  {
   "cell_type": "code",
   "execution_count": 24,
   "id": "5c4120fa",
   "metadata": {},
   "outputs": [
    {
     "name": "stdout",
     "output_type": "stream",
     "text": [
      "женщин кликают: 2840 из 140804\n"
     ]
    }
   ],
   "source": [
    "print(f\"женщин кликают: {df_w_a_v_r_e.shape[0]} из {df_w_a_v_r.shape[0]}\")"
   ]
  },
  {
   "cell_type": "markdown",
   "id": "da6edb91",
   "metadata": {},
   "source": [
    "#### <div style='background:#2b9011;color:white;padding:0.5em;border-radius:0.2em'>3) Возраст</div>"
   ]
  },
  {
   "cell_type": "code",
   "execution_count": 25,
   "id": "df504793",
   "metadata": {},
   "outputs": [
    {
     "data": {
      "image/png": "[encoded data removed]",
      "text/plain": [
       "<Figure size 1200x800 with 1 Axes>"
      ]
     },
     "metadata": {
      "needs_background": "dark"
     },
     "output_type": "display_data"
    }
   ],
   "source": [
    "plt.hist(df_w_a_v_r_e['age'], bins=230)\n",
    "plt.title(\"Распределение по возрастам\")\n",
    "plt.show()"
   ]
  },
  {
   "cell_type": "code",
   "execution_count": 26,
   "id": "9647237b",
   "metadata": {},
   "outputs": [
    {
     "name": "stdout",
     "output_type": "stream",
     "text": [
      "процентное отношение кол-ва женщин в возрасте старше 75 в датасете, которые пользуются андройдом и кликают: 2.7\n"
     ]
    }
   ],
   "source": [
    "logic_6 = df['age'] >= 75\n",
    "\n",
    "df_w_a_v_r_e_a = df[logic_1 & logic_2 & logic_3 & logic_4 & logic_5 & logic_6]\n",
    "df_w_a_v_r_e_a1 = df[logic_1 & logic_2 & logic_3 & logic_4 & logic_6]\n",
    "\n",
    "print(f\"процентное отношение кол-ва женщин в возрасте старше 75 в датасете, которые пользуются андройдом и кликают: {round(df_w_a_v_r_e_a.shape[0] / df_w_a_v_r_e_a1.shape[0] * 100, 2)}\")"
   ]
  },
  {
   "cell_type": "markdown",
   "id": "da87421d",
   "metadata": {},
   "source": [
    "**Вывод:**\n",
    "\n",
    "    Реклама является эффективной для женщин старше 75 лет, которые пользуются андройдом, проживающих в первом регионе, которым показывают видео"
   ]
  },
  {
   "cell_type": "code",
   "execution_count": 27,
   "id": "255a79bf",
   "metadata": {},
   "outputs": [
    {
     "name": "stdout",
     "output_type": "stream",
     "text": [
      "процентное отношение кол-ва женщин старше 10 младше 20, которые пользуются андройдом и кликают: 1.73\n",
      "процентное отношение кол-ва женщин старше 10 младше 30, которые пользуются андройдом и кликают: 2.0\n",
      "процентное отношение кол-ва женщин старше 10 младше 40, которые пользуются андройдом и кликают: 1.92\n",
      "процентное отношение кол-ва женщин старше 10 младше 50, которые пользуются андройдом и кликают: 1.95\n",
      "процентное отношение кол-ва женщин старше 10 младше 60, которые пользуются андройдом и кликают: 1.99\n",
      "процентное отношение кол-ва женщин старше 10 младше 70, которые пользуются андройдом и кликают: 2.01\n"
     ]
    }
   ],
   "source": [
    "for i, j in zip([10]*6, range(20, 80, 10)):\n",
    "    logic_6 = (df['age'] >= i)\n",
    "    logic_6a = (df['age'] <= j)\n",
    "    df_w_a_v_r_e_a = df[logic_1 & logic_2 & logic_3 & logic_4 & logic_5 & logic_6 & logic_6a]\n",
    "    df_w_a_v_r_e_a1 = df[logic_1 & logic_2 & logic_3 & logic_4 & logic_6 & logic_6a]\n",
    "\n",
    "    print(f\"процентное отношение кол-ва женщин старше {i} младше {j}, которые пользуются андройдом и кликают: {round(df_w_a_v_r_e_a.shape[0] / df_w_a_v_r_e_a1.shape[0] * 100, 2)}\")"
   ]
  },
  {
   "cell_type": "code",
   "execution_count": 28,
   "id": "d8a2d1b0",
   "metadata": {},
   "outputs": [
    {
     "name": "stdout",
     "output_type": "stream",
     "text": [
      "процентное отношение кол-ва женщин старше 10 младше 20, которые пользуются андройдом и кликают: 1.73\n",
      "процентное отношение кол-ва женщин старше 20 младше 30, которые пользуются андройдом и кликают: 2.04\n",
      "процентное отношение кол-ва женщин старше 30 младше 40, которые пользуются андройдом и кликают: 1.83\n",
      "процентное отношение кол-ва женщин старше 40 младше 50, которые пользуются андройдом и кликают: 2.09\n",
      "процентное отношение кол-ва женщин старше 50 младше 60, которые пользуются андройдом и кликают: 2.67\n",
      "процентное отношение кол-ва женщин старше 60 младше 70, которые пользуются андройдом и кликают: 2.84\n",
      "процентное отношение кол-ва женщин старше 70 младше 80, которые пользуются андройдом и кликают: 2.76\n"
     ]
    }
   ],
   "source": [
    "for i, j in zip(range(10, 80, 10), range(20, 90, 10)):\n",
    "    logic_6 = (df['age'] >= i)\n",
    "    logic_6a = (df['age'] <= j)\n",
    "    df_w_a_v_r_e_a = df[logic_1 & logic_2 & logic_3 & logic_4 & logic_5 & logic_6 & logic_6a]\n",
    "    df_w_a_v_r_e_a1 = df[logic_1 & logic_2 & logic_3 & logic_4 & logic_6 & logic_6a]\n",
    "\n",
    "    print(f\"процентное отношение кол-ва женщин старше {i} младше {j}, которые пользуются андройдом и кликают: {round(df_w_a_v_r_e_a.shape[0] / df_w_a_v_r_e_a1.shape[0] * 100, 2)}\")"
   ]
  },
  {
   "cell_type": "code",
   "execution_count": 84,
   "id": "12d2111e",
   "metadata": {},
   "outputs": [
    {
     "name": "stdout",
     "output_type": "stream",
     "text": [
      "процентное отношение кол-ва м cтарше 10, младше 20: 1.73\n",
      "процентное отношение кол-ва м cтарше 20, младше 30: 2.02\n",
      "процентное отношение кол-ва м cтарше 30, младше 40: 1.84\n",
      "процентное отношение кол-ва м cтарше 40, младше 50: 2.11\n",
      "процентное отношение кол-ва м cтарше 50, младше 60: 2.64\n",
      "процентное отношение кол-ва м cтарше 60, младше 70: 3.09\n",
      "процентное отношение кол-ва м cтарше 70, младше 80: 2.51\n"
     ]
    }
   ],
   "source": [
    "logic_1 = df['gender'] == 1\n",
    "logic_2 = df['device_type'] == \"android\"\n",
    "logic_3 = df['adv_type'] == \"video\"\n",
    "logic_4 = df['region_id'] == 2\n",
    "logic_5 = df['ev_type'] == 1\n",
    "\n",
    "for i, j in zip(range(10, 80, 10), range(20, 90, 10)):\n",
    "    logic_6 = (df['age'] >= i)\n",
    "    logic_6a = (df['age'] <= j)\n",
    "    df_tmp = df[logic_1 & logic_2 & logic_3 & logic_4 & logic_5 & logic_6 & logic_6a]\n",
    "    df_tmp1 = df[logic_1 & logic_2 & logic_3 & logic_4 & logic_6 & logic_6a]\n",
    "\n",
    "    print(f\"процентное отношение кол-ва м cтарше {i}, младше {j}: {round(df_tmp.shape[0] / df_tmp1.shape[0] * 100, 2)}\")"
   ]
  },
  {
   "cell_type": "markdown",
   "id": "efcfe662",
   "metadata": {},
   "source": [
    "**Вывод:**\n",
    "\n",
    "    Реклама может эффективной для женщин от 60 до 800, которые пользуются андройдом, проживающих в любом регионе, которым показывают видео"
   ]
  },
  {
   "cell_type": "code",
   "execution_count": 29,
   "id": "a4935791",
   "metadata": {},
   "outputs": [
    {
     "name": "stdout",
     "output_type": "stream",
     "text": [
      "процентное отношение кол-ва женщин в датасете, которые пользуются ios в том же регионе и кликают: 0.98\n"
     ]
    }
   ],
   "source": [
    "logic_1 = df['gender'] == 1\n",
    "logic_2 = df['device_type'] == \"ios\"\n",
    "logic_3 = df['adv_type'] == \"video\"\n",
    "logic_4 = df['region_id'] == 1\n",
    "logic_5 = df['ev_type'] == 1\n",
    "\n",
    "df_tmp = df[logic_1 & logic_2 & logic_3 & logic_4 & logic_5]\n",
    "df_tmp1 = df[logic_1 & logic_2 & logic_3 & logic_4]\n",
    "\n",
    "print(f\"процентное отношение кол-ва женщин в датасете, которые пользуются ios в том же регионе и кликают: {round(df_tmp.shape[0] / df_tmp1.shape[0] * 100, 2)}\")"
   ]
  },
  {
   "cell_type": "code",
   "execution_count": 30,
   "id": "2ae8435f",
   "metadata": {},
   "outputs": [
    {
     "name": "stdout",
     "output_type": "stream",
     "text": [
      "процентное отношение кол-ва женщин в датасете, которые пользуются ios в другом регионе и кликают: 0.86\n"
     ]
    }
   ],
   "source": [
    "logic_1 = df['gender'] == 1\n",
    "logic_2 = df['device_type'] == \"ios\"\n",
    "logic_3 = df['adv_type'] == \"video\"\n",
    "logic_4 = df['region_id'] == 2\n",
    "logic_5 = df['ev_type'] == 1\n",
    "\n",
    "df_tmp = df[logic_1 & logic_2 & logic_3 & logic_4 & logic_5]\n",
    "df_tmp1 = df[logic_1 & logic_2 & logic_3 & logic_4]\n",
    "\n",
    "print(f\"процентное отношение кол-ва женщин в датасете, которые пользуются ios в другом регионе и кликают: {round(df_tmp.shape[0] / df_tmp1.shape[0] * 100, 2)}\")"
   ]
  },
  {
   "cell_type": "code",
   "execution_count": 82,
   "id": "9bb63830",
   "metadata": {},
   "outputs": [
    {
     "name": "stdout",
     "output_type": "stream",
     "text": [
      "процентное отношение кол-ва м cтарше 10, младше 20: 0.7\n",
      "процентное отношение кол-ва м cтарше 20, младше 30: 1.24\n",
      "процентное отношение кол-ва м cтарше 30, младше 40: 0.83\n",
      "процентное отношение кол-ва м cтарше 40, младше 50: 0.8\n",
      "процентное отношение кол-ва м cтарше 50, младше 60: 0.95\n",
      "процентное отношение кол-ва м cтарше 60, младше 70: 0.8\n",
      "процентное отношение кол-ва м cтарше 70, младше 80: 0.91\n"
     ]
    }
   ],
   "source": [
    "logic_1 = df['gender'] == 1\n",
    "logic_2 = df['device_type'] == \"ios\"\n",
    "logic_3 = df['adv_type'] == \"video\"\n",
    "logic_4 = df['region_id'] == 1\n",
    "logic_5 = df['ev_type'] == 1\n",
    "\n",
    "for i, j in zip(range(10, 80, 10), range(20, 90, 10)):\n",
    "    logic_6 = (df['age'] >= i)\n",
    "    logic_6a = (df['age'] <= j)\n",
    "    df_tmp = df[logic_1 & logic_2 & logic_3 & logic_4 & logic_5 & logic_6 & logic_6a]\n",
    "    df_tmp1 = df[logic_1 & logic_2 & logic_3 & logic_4 & logic_6 & logic_6a]\n",
    "\n",
    "    print(f\"процентное отношение кол-ва м cтарше {i}, младше {j}: {round(df_tmp.shape[0] / df_tmp1.shape[0] * 100, 2)}\")"
   ]
  },
  {
   "cell_type": "markdown",
   "id": "002276b5",
   "metadata": {},
   "source": [
    "**Вывод:**\n",
    "\n",
    "    Реклама не является эффективной для женщин, которые пользуются ios или живут в другмо регионе"
   ]
  },
  {
   "cell_type": "markdown",
   "id": "020ae57f",
   "metadata": {},
   "source": [
    "### <div style='background:#2b9084;color:white;padding:0.5em;border-radius:0.2em'>Пользователи мужчины</div>"
   ]
  },
  {
   "cell_type": "code",
   "execution_count": 31,
   "id": "22d0c07d",
   "metadata": {},
   "outputs": [
    {
     "name": "stdout",
     "output_type": "stream",
     "text": [
      "процентное отношение кол-ва мужчин в датасете: 3.93\n"
     ]
    }
   ],
   "source": [
    "logic_a = df['gender'] == 2\n",
    "\n",
    "df_m = df[logic_a]\n",
    "\n",
    "print(f\"процентное отношение кол-ва мужчин в датасете: {round(df_m.shape[0] / df.shape[0] * 100, 2)}\")"
   ]
  },
  {
   "cell_type": "code",
   "execution_count": 32,
   "id": "71d741df",
   "metadata": {},
   "outputs": [
    {
     "data": {
      "image/png": "[encoded data removed]",
      "text/plain": [
       "<Figure size 1200x800 with 1 Axes>"
      ]
     },
     "metadata": {},
     "output_type": "display_data"
    }
   ],
   "source": [
    "labels = ['Показ', 'Клик']\n",
    "plt.pie(df_m['ev_type'].value_counts(), startangle=90, autopct='%1.1f%%', labels=labels)\n",
    "plt.title(\"Процентное соотношение кликов и показов\")\n",
    "plt.show()"
   ]
  },
  {
   "cell_type": "markdown",
   "id": "6f73b2a4",
   "metadata": {},
   "source": [
    "Мужчины почти не кликают по рекламе"
   ]
  },
  {
   "cell_type": "code",
   "execution_count": 33,
   "id": "258b167c",
   "metadata": {},
   "outputs": [
    {
     "data": {
      "image/png": "[encoded data removed]",
      "text/plain": [
       "<Figure size 1200x800 with 1 Axes>"
      ]
     },
     "metadata": {
      "needs_background": "dark"
     },
     "output_type": "display_data"
    }
   ],
   "source": [
    "plt.hist(df_m['age'], bins=230)\n",
    "plt.title(\"Распределение по возрастам\")\n",
    "plt.show()"
   ]
  },
  {
   "cell_type": "code",
   "execution_count": 97,
   "id": "356c6cee",
   "metadata": {},
   "outputs": [
    {
     "name": "stdout",
     "output_type": "stream",
     "text": [
      "процентное отношение кол-ва м cтарше 20, младше 30: 0.0\n",
      "процентное отношение кол-ва м cтарше 30, младше 40: 0.0\n",
      "процентное отношение кол-ва м cтарше 40, младше 50: 0.0\n",
      "процентное отношение кол-ва м cтарше 50, младше 60: 1.09\n",
      "процентное отношение кол-ва м cтарше 60, младше 70: 0.73\n",
      "процентное отношение кол-ва м cтарше 70, младше 80: 0.0\n"
     ]
    }
   ],
   "source": [
    "logic_a = df['gender'] == 2\n",
    "logic_2 = df['device_type'] == \"android\"\n",
    "logic_3 = df['adv_type'] == \"video\"\n",
    "logic_4 = df['region_id'] == 1\n",
    "logic_5 = df['ev_type'] == 1\n",
    "\n",
    "for i, j in zip(range(20, 80, 10), range(30, 90, 10)):\n",
    "    logic_6 = (df['age'] >= i)\n",
    "    logic_6a = (df['age'] <= j)\n",
    "    df_m_e_a = df[logic_a & logic_2 & logic_4 & logic_5 & logic_6 & logic_6a]\n",
    "    df_m_e_a1 = df[logic_a & logic_2 & logic_4 & logic_6 & logic_6a]\n",
    "    \n",
    "    try:\n",
    "        print(f\"процентное отношение кол-ва м cтарше {i}, младше {j}: {round(df_m_e_a.shape[0] / df_m_e_a1.shape[0] * 100, 2)}\")\n",
    "    except:\n",
    "        pass"
   ]
  },
  {
   "cell_type": "code",
   "execution_count": 98,
   "id": "382409b5",
   "metadata": {},
   "outputs": [
    {
     "name": "stdout",
     "output_type": "stream",
     "text": [
      "процентное отношение кол-ва м cтарше 20, младше 30: 0.0\n",
      "процентное отношение кол-ва м cтарше 30, младше 40: 0.0\n",
      "процентное отношение кол-ва м cтарше 40, младше 50: 1.47\n",
      "процентное отношение кол-ва м cтарше 50, младше 60: 1.72\n",
      "процентное отношение кол-ва м cтарше 60, младше 70: 1.75\n",
      "процентное отношение кол-ва м cтарше 70, младше 80: 0.0\n"
     ]
    }
   ],
   "source": [
    "logic_a = df['gender'] == 2\n",
    "logic_2 = df['device_type'] == \"android\"\n",
    "logic_3 = df['adv_type'] == \"video\"\n",
    "logic_4 = df['region_id'] == 2\n",
    "logic_5 = df['ev_type'] == 1\n",
    "\n",
    "for i, j in zip(range(20, 80, 10), range(30, 90, 10)):\n",
    "    logic_6 = (df['age'] >= i)\n",
    "    logic_6a = (df['age'] <= j)\n",
    "    df_m_e_a = df[logic_a & logic_2 & logic_4 & logic_5 & logic_6 & logic_6a]\n",
    "    df_m_e_a1 = df[logic_a & logic_2 & logic_4 & logic_6 & logic_6a]\n",
    "    \n",
    "    try:\n",
    "        print(f\"процентное отношение кол-ва м cтарше {i}, младше {j}: {round(df_m_e_a.shape[0] / df_m_e_a1.shape[0] * 100, 2)}\")\n",
    "    except:\n",
    "        pass"
   ]
  },
  {
   "cell_type": "code",
   "execution_count": 95,
   "id": "0f243e60",
   "metadata": {},
   "outputs": [],
   "source": [
    "logic_2 = df['device_type'] == \"ios\"\n",
    "logic_3 = df['adv_type'] == \"video\"\n",
    "logic_4 = df['region_id'] == 1\n",
    "logic_5 = df['ev_type'] == 1\n",
    "\n",
    "for i, j in zip(range(10, 80, 10), range(20, 90, 10)):\n",
    "    logic_6 = (df['age'] >= i)\n",
    "    logic_6a = (df['age'] <= j)\n",
    "    df_m_e_a = df[logic_a & logic_2 & logic_3 & logic_4 & logic_5 & logic_6 & logic_6a]\n",
    "    df_m_e_a1 = df[logic_a & logic_2 & logic_3 & logic_4 & logic_6 & logic_6a]\n",
    "    \n",
    "    try:\n",
    "        print(f\"процентное отношение кол-ва м cтарше {i}, младше {j}: {round(df_m_e_a.shape[0] / df_m_e_a1.shape[0] * 100, 2)}\")\n",
    "    except:\n",
    "        pass"
   ]
  },
  {
   "cell_type": "markdown",
   "id": "0452ff16",
   "metadata": {},
   "source": [
    "Мужчин в целом очень мало, среди них преобладают дошкольники и подростки, для них реклама была эффективна"
   ]
  },
  {
   "cell_type": "code",
   "execution_count": 43,
   "id": "0aae6961",
   "metadata": {},
   "outputs": [],
   "source": [
    "from scipy import stats\n",
    "import scipy as sp"
   ]
  },
  {
   "cell_type": "code",
   "execution_count": 44,
   "id": "54c0c8ff",
   "metadata": {},
   "outputs": [],
   "source": [
    "def t_test_verbose(a, sample2=None, mean=None, fn=None):\n",
    "    '''Служебная функция с подробной информацией \n",
    "       результата t-теста Уэлша'''\n",
    "    abar = a.mean()\n",
    "    avar = a.var(ddof=1)  # несмещенное значение\n",
    "    na = a.size\n",
    "    adof = na - 1\n",
    "    conf_int = stats.t.interval(0.95, len(a)-1, \n",
    "                                loc=sp.mean(a), scale=stats.sem(a))\n",
    "\n",
    "    if type(a) == type(sample2):\n",
    "        bbar = sample2.mean()\n",
    "        bvar = sample2.var(ddof=1)\n",
    "        nb = sample2.size\n",
    "        bdof = nb - 1\n",
    "\n",
    "        dof = (avar/na + bvar/nb)**2 / (avar**2/(na**2*adof) + bvar**2/(nb**2*bdof))\n",
    "        return {'p-значение'           : \n",
    "                   fn(a, sample2, equal_var=False).pvalue,  #  выполняет t-тест Уэлша   \n",
    "                'степени свободы     ' : dof,  #t_test(a, b),   \n",
    "                'интервал уверенности' : conf_int,         \n",
    "                'n1          ' : a.count(),\n",
    "                'n2          ' : sample2.count(),\n",
    "                'среднее x   ' : a.mean(),\n",
    "                'среднее y   ' : sample2.mean(),\n",
    "                'дисперсия x ' : a.var(),\n",
    "                'дисперсия y ' : sample2.var(),\n",
    "                't-статистика' : fn( a, sample2, equal_var=False ).statistic} \n",
    "    else:\n",
    "        dof = (avar/na) / (avar/(na*adof))\n",
    "        return {'p-значение          ' : fn(a, mean).pvalue,    \n",
    "                'степени свободы df  ' : dof,    \n",
    "                'интервал уверенности' : conf_int, \n",
    "                'n1                  ' : a.count(),\n",
    "                'среднее x           ' : a.mean(),\n",
    "                'дисперсия x         ' : a.var(),\n",
    "                't-статистика        ' : fn(a, mean).statistic} "
   ]
  },
  {
   "cell_type": "code",
   "execution_count": 45,
   "id": "4f2c20bd",
   "metadata": {},
   "outputs": [],
   "source": [
    "def double_t(df):\n",
    "    '''Двухсторонний t-тест'''\n",
    "    groups = df.groupby('gender')['ev_type']\n",
    "    \n",
    "    a = groups.get_group(0)\n",
    "    b = groups.get_group(1)    \n",
    "    return t_test_verbose(a, sample2=b, fn=stats.ttest_ind) #t-тест Уэлша"
   ]
  },
  {
   "cell_type": "code",
   "execution_count": 46,
   "id": "4a6977c2",
   "metadata": {},
   "outputs": [
    {
     "name": "stderr",
     "output_type": "stream",
     "text": [
      "<ipython-input-44-e5483eda60c7>:9: DeprecationWarning: scipy.mean is deprecated and will be removed in SciPy 2.0.0, use numpy.mean instead\n",
      "  loc=sp.mean(a), scale=stats.sem(a))\n"
     ]
    },
    {
     "data": {
      "text/plain": [
       "{'p-значение': 3.978536852249654e-152,\n",
       " 'степени свободы     ': 59491.84157598919,\n",
       " 'интервал уверенности': (0.003799447131412467, 0.005372599293253283),\n",
       " 'n1          ': 28347,\n",
       " 'n2          ': 226616,\n",
       " 'среднее x   ': 0.004586023212332875,\n",
       " 'среднее y   ': 0.017399477530271473,\n",
       " 'дисперсия x ': 0.004565152648784594,\n",
       " 'дисперсия y ': 0.017096811155941503,\n",
       " 't-статистика': -26.348776472072974}"
      ]
     },
     "execution_count": 46,
     "metadata": {},
     "output_type": "execute_result"
    }
   ],
   "source": [
    "double_t(df)"
   ]
  },
  {
   "cell_type": "markdown",
   "id": "249f3a75",
   "metadata": {},
   "source": [
    "Получается вероятность клика у мужчин 0.3 +- 3*0.017, у женщин 2+-3*0.04 что намного больше. Т.е. клик рейт сильно больше"
   ]
  },
  {
   "cell_type": "markdown",
   "id": "e8180e2e",
   "metadata": {},
   "source": [
    "### <div style='background:#2b9084;color:white;padding:0.5em;border-radius:0.2em'>Пользователи дети</div>"
   ]
  },
  {
   "cell_type": "code",
   "execution_count": 104,
   "id": "b4bc3605",
   "metadata": {},
   "outputs": [
    {
     "name": "stdout",
     "output_type": "stream",
     "text": [
      "процентное отношение кол-ва детей и подростков в датасете: 19.39\n"
     ]
    }
   ],
   "source": [
    "logic_ch = df['age'] <= 16\n",
    "\n",
    "df_ch = df[logic_ch]\n",
    "\n",
    "print(f\"процентное отношение кол-ва детей и подростков в датасете: {round(df_ch.shape[0] / df.shape[0] * 100, 2)}\")"
   ]
  },
  {
   "cell_type": "code",
   "execution_count": 105,
   "id": "23796b18",
   "metadata": {},
   "outputs": [
    {
     "name": "stdout",
     "output_type": "stream",
     "text": [
      "процентное отношение кол-ва детей и подростков в датасете, которые кликают: 0.52\n"
     ]
    }
   ],
   "source": [
    "df_ch_e = df[logic_ch & logic_5]\n",
    "\n",
    "print(f\"процентное отношение кол-ва детей и подростков в датасете, которые кликают: {round(df_ch_e.shape[0] / df_ch.shape[0] * 100, 2)}\")"
   ]
  },
  {
   "cell_type": "code",
   "execution_count": 148,
   "id": "d7fd1c00",
   "metadata": {},
   "outputs": [
    {
     "name": "stdout",
     "output_type": "stream",
     "text": [
      "процентное отношение кол-ва детей мальчиков, которые кликают: 0.25\n",
      "процентное отношение кол-ва детей мальчиков, которые кликают: 0.25\n",
      "процентное отношение кол-ва детей мальчиков, которые кликают: 0.24\n",
      "процентное отношение кол-ва детей мальчиков, которые кликают: 0.24\n",
      "процентное отношение кол-ва детей мальчиков, которые кликают: 0.25\n",
      "процентное отношение кол-ва детей мальчиков, которые кликают: 0.3\n",
      "процентное отношение кол-ва детей мальчиков, которые кликают: 0.35\n",
      "процентное отношение кол-ва детей мальчиков, которые кликают: 0.33\n",
      "процентное отношение кол-ва детей мальчиков, которые кликают: 0.36\n",
      "процентное отношение кол-ва детей мальчиков, которые кликают: 0.36\n",
      "процентное отношение кол-ва детей мальчиков, которые кликают: 0.35\n",
      "процентное отношение кол-ва детей мальчиков, которые кликают: 0.38\n",
      "процентное отношение кол-ва детей мальчиков, которые кликают: 0.37\n",
      "процентное отношение кол-ва детей мальчиков, которые кликают: 0.34\n",
      "процентное отношение кол-ва детей мальчиков, которые кликают: 0.34\n"
     ]
    }
   ],
   "source": [
    "logic_g = df['gender'] == 2\n",
    "\n",
    "for i in range(2, 17, 1):\n",
    "    \n",
    "    logic_ch = df['age'] <= i\n",
    "\n",
    "    df_ch_e_g1 = df[logic_g & logic_ch]\n",
    "    df_ch_e_g = df[logic_g & logic_5 & logic_ch]\n",
    "\n",
    "    print(f\"процентное отношение кол-ва детей мальчиков, которые кликают: {round(df_ch_e_g.shape[0] / df_ch_e_g1.shape[0] * 100, 2)}\")"
   ]
  },
  {
   "cell_type": "code",
   "execution_count": 150,
   "id": "fec8921c",
   "metadata": {},
   "outputs": [
    {
     "name": "stdout",
     "output_type": "stream",
     "text": [
      "процентное отношение кол-ва детей девочек, которые кликают: 0.51\n",
      "процентное отношение кол-ва детей девочек, которые кликают: 0.51\n",
      "процентное отношение кол-ва детей девочек, которые кликают: 0.5\n",
      "процентное отношение кол-ва детей девочек, которые кликают: 0.49\n",
      "процентное отношение кол-ва детей девочек, которые кликают: 0.51\n",
      "процентное отношение кол-ва детей девочек, которые кликают: 0.54\n",
      "процентное отношение кол-ва детей девочек, которые кликают: 0.51\n",
      "процентное отношение кол-ва детей девочек, которые кликают: 0.56\n",
      "процентное отношение кол-ва детей девочек, которые кликают: 0.55\n",
      "процентное отношение кол-ва детей девочек, которые кликают: 0.53\n",
      "процентное отношение кол-ва детей девочек, которые кликают: 0.51\n",
      "процентное отношение кол-ва детей девочек, которые кликают: 0.51\n",
      "процентное отношение кол-ва детей девочек, которые кликают: 0.59\n",
      "процентное отношение кол-ва детей девочек, которые кликают: 0.65\n",
      "процентное отношение кол-ва детей девочек, которые кликают: 0.73\n"
     ]
    }
   ],
   "source": [
    "logic_g = df['gender'] == 1\n",
    "for i in range(2, 17, 1):\n",
    "    \n",
    "    logic_ch = df['age'] <= i\n",
    "\n",
    "    df_ch_e_g1 = df[logic_g & logic_ch]\n",
    "    df_ch_e_g = df[logic_g & logic_5 & logic_ch]\n",
    "\n",
    "    print(f\"процентное отношение кол-ва детей девочек, которые кликают: {round(df_ch_e_g.shape[0] / df_ch_e_g1.shape[0] * 100, 2)}\")"
   ]
  },
  {
   "cell_type": "markdown",
   "id": "17009ced",
   "metadata": {},
   "source": [
    "Дети так же мало кликают на рекламу"
   ]
  },
  {
   "cell_type": "code",
   "execution_count": null,
   "id": "2bf6d8e0",
   "metadata": {},
   "outputs": [],
   "source": []
  },
  {
   "cell_type": "code",
   "execution_count": null,
   "id": "d2a70f9f",
   "metadata": {},
   "outputs": [],
   "source": []
  },
  {
   "cell_type": "code",
   "execution_count": 178,
   "id": "77997ab5",
   "metadata": {},
   "outputs": [
    {
     "data": {
      "text/html": [
       "<div>\n",
       "<style scoped>\n",
       "    .dataframe tbody tr th:only-of-type {\n",
       "        vertical-align: middle;\n",
       "    }\n",
       "\n",
       "    .dataframe tbody tr th {\n",
       "        vertical-align: top;\n",
       "    }\n",
       "\n",
       "    .dataframe thead th {\n",
       "        text-align: right;\n",
       "    }\n",
       "</style>\n",
       "<table border=\"1\" class=\"dataframe\">\n",
       "  <thead>\n",
       "    <tr style=\"text-align: right;\">\n",
       "      <th></th>\n",
       "      <th>device_id</th>\n",
       "      <th>device_type</th>\n",
       "      <th>datetime</th>\n",
       "      <th>ev_type</th>\n",
       "      <th>adv_type</th>\n",
       "      <th>region_id</th>\n",
       "      <th>age</th>\n",
       "      <th>gender</th>\n",
       "    </tr>\n",
       "  </thead>\n",
       "  <tbody>\n",
       "    <tr>\n",
       "      <th>1185</th>\n",
       "      <td>100288</td>\n",
       "      <td>android</td>\n",
       "      <td>2019-03-01 19:45:50</td>\n",
       "      <td>0</td>\n",
       "      <td>multi</td>\n",
       "      <td>2</td>\n",
       "      <td>12</td>\n",
       "      <td>1</td>\n",
       "    </tr>\n",
       "    <tr>\n",
       "      <th>1186</th>\n",
       "      <td>100288</td>\n",
       "      <td>android</td>\n",
       "      <td>2019-03-04 11:10:13</td>\n",
       "      <td>0</td>\n",
       "      <td>multi</td>\n",
       "      <td>2</td>\n",
       "      <td>6</td>\n",
       "      <td>2</td>\n",
       "    </tr>\n",
       "    <tr>\n",
       "      <th>1187</th>\n",
       "      <td>100288</td>\n",
       "      <td>android</td>\n",
       "      <td>2019-03-05 09:20:59</td>\n",
       "      <td>0</td>\n",
       "      <td>multi</td>\n",
       "      <td>1</td>\n",
       "      <td>0</td>\n",
       "      <td>0</td>\n",
       "    </tr>\n",
       "    <tr>\n",
       "      <th>1188</th>\n",
       "      <td>100288</td>\n",
       "      <td>android</td>\n",
       "      <td>2019-03-01 11:06:01</td>\n",
       "      <td>0</td>\n",
       "      <td>multi</td>\n",
       "      <td>1</td>\n",
       "      <td>0</td>\n",
       "      <td>0</td>\n",
       "    </tr>\n",
       "    <tr>\n",
       "      <th>1189</th>\n",
       "      <td>100288</td>\n",
       "      <td>android</td>\n",
       "      <td>2019-03-01 10:13:22</td>\n",
       "      <td>0</td>\n",
       "      <td>multi</td>\n",
       "      <td>1</td>\n",
       "      <td>0</td>\n",
       "      <td>0</td>\n",
       "    </tr>\n",
       "    <tr>\n",
       "      <th>1190</th>\n",
       "      <td>100288</td>\n",
       "      <td>android</td>\n",
       "      <td>2019-03-02 18:34:28</td>\n",
       "      <td>0</td>\n",
       "      <td>multi</td>\n",
       "      <td>2</td>\n",
       "      <td>0</td>\n",
       "      <td>0</td>\n",
       "    </tr>\n",
       "    <tr>\n",
       "      <th>1191</th>\n",
       "      <td>100288</td>\n",
       "      <td>android</td>\n",
       "      <td>2019-03-01 11:47:45</td>\n",
       "      <td>0</td>\n",
       "      <td>multi</td>\n",
       "      <td>2</td>\n",
       "      <td>6</td>\n",
       "      <td>2</td>\n",
       "    </tr>\n",
       "    <tr>\n",
       "      <th>1192</th>\n",
       "      <td>100288</td>\n",
       "      <td>android</td>\n",
       "      <td>2019-03-01 16:25:31</td>\n",
       "      <td>0</td>\n",
       "      <td>multi</td>\n",
       "      <td>1</td>\n",
       "      <td>14</td>\n",
       "      <td>1</td>\n",
       "    </tr>\n",
       "    <tr>\n",
       "      <th>1193</th>\n",
       "      <td>100288</td>\n",
       "      <td>android</td>\n",
       "      <td>2019-03-04 12:38:06</td>\n",
       "      <td>0</td>\n",
       "      <td>multi</td>\n",
       "      <td>2</td>\n",
       "      <td>6</td>\n",
       "      <td>2</td>\n",
       "    </tr>\n",
       "    <tr>\n",
       "      <th>1194</th>\n",
       "      <td>100288</td>\n",
       "      <td>android</td>\n",
       "      <td>2019-03-06 13:42:29</td>\n",
       "      <td>0</td>\n",
       "      <td>video</td>\n",
       "      <td>2</td>\n",
       "      <td>29</td>\n",
       "      <td>1</td>\n",
       "    </tr>\n",
       "    <tr>\n",
       "      <th>1195</th>\n",
       "      <td>100288</td>\n",
       "      <td>android</td>\n",
       "      <td>2019-03-04 14:58:18</td>\n",
       "      <td>0</td>\n",
       "      <td>video</td>\n",
       "      <td>1</td>\n",
       "      <td>19</td>\n",
       "      <td>1</td>\n",
       "    </tr>\n",
       "    <tr>\n",
       "      <th>1196</th>\n",
       "      <td>100288</td>\n",
       "      <td>android</td>\n",
       "      <td>2019-03-03 14:30:15</td>\n",
       "      <td>0</td>\n",
       "      <td>video</td>\n",
       "      <td>1</td>\n",
       "      <td>21</td>\n",
       "      <td>1</td>\n",
       "    </tr>\n",
       "    <tr>\n",
       "      <th>1197</th>\n",
       "      <td>100288</td>\n",
       "      <td>android</td>\n",
       "      <td>2019-03-01 09:59:50</td>\n",
       "      <td>0</td>\n",
       "      <td>video</td>\n",
       "      <td>1</td>\n",
       "      <td>25</td>\n",
       "      <td>1</td>\n",
       "    </tr>\n",
       "    <tr>\n",
       "      <th>1198</th>\n",
       "      <td>100288</td>\n",
       "      <td>android</td>\n",
       "      <td>2019-03-01 15:35:13</td>\n",
       "      <td>0</td>\n",
       "      <td>video</td>\n",
       "      <td>1</td>\n",
       "      <td>34</td>\n",
       "      <td>1</td>\n",
       "    </tr>\n",
       "    <tr>\n",
       "      <th>1199</th>\n",
       "      <td>100288</td>\n",
       "      <td>android</td>\n",
       "      <td>2019-03-01 09:32:16</td>\n",
       "      <td>0</td>\n",
       "      <td>video</td>\n",
       "      <td>1</td>\n",
       "      <td>39</td>\n",
       "      <td>1</td>\n",
       "    </tr>\n",
       "    <tr>\n",
       "      <th>1200</th>\n",
       "      <td>100288</td>\n",
       "      <td>android</td>\n",
       "      <td>2019-03-08 17:16:10</td>\n",
       "      <td>0</td>\n",
       "      <td>video</td>\n",
       "      <td>1</td>\n",
       "      <td>41</td>\n",
       "      <td>1</td>\n",
       "    </tr>\n",
       "    <tr>\n",
       "      <th>1201</th>\n",
       "      <td>100288</td>\n",
       "      <td>android</td>\n",
       "      <td>2019-03-02 17:10:37</td>\n",
       "      <td>0</td>\n",
       "      <td>video</td>\n",
       "      <td>1</td>\n",
       "      <td>40</td>\n",
       "      <td>1</td>\n",
       "    </tr>\n",
       "    <tr>\n",
       "      <th>1202</th>\n",
       "      <td>100288</td>\n",
       "      <td>android</td>\n",
       "      <td>2019-03-02 20:33:02</td>\n",
       "      <td>0</td>\n",
       "      <td>video</td>\n",
       "      <td>1</td>\n",
       "      <td>23</td>\n",
       "      <td>1</td>\n",
       "    </tr>\n",
       "    <tr>\n",
       "      <th>1203</th>\n",
       "      <td>100288</td>\n",
       "      <td>android</td>\n",
       "      <td>2019-03-01 15:36:39</td>\n",
       "      <td>1</td>\n",
       "      <td>video</td>\n",
       "      <td>1</td>\n",
       "      <td>34</td>\n",
       "      <td>1</td>\n",
       "    </tr>\n",
       "    <tr>\n",
       "      <th>1204</th>\n",
       "      <td>100288</td>\n",
       "      <td>android</td>\n",
       "      <td>2019-03-07 14:16:30</td>\n",
       "      <td>0</td>\n",
       "      <td>video</td>\n",
       "      <td>2</td>\n",
       "      <td>29</td>\n",
       "      <td>1</td>\n",
       "    </tr>\n",
       "    <tr>\n",
       "      <th>1205</th>\n",
       "      <td>100288</td>\n",
       "      <td>android</td>\n",
       "      <td>2019-03-02 15:44:47</td>\n",
       "      <td>0</td>\n",
       "      <td>video</td>\n",
       "      <td>2</td>\n",
       "      <td>29</td>\n",
       "      <td>1</td>\n",
       "    </tr>\n",
       "    <tr>\n",
       "      <th>1206</th>\n",
       "      <td>100288</td>\n",
       "      <td>android</td>\n",
       "      <td>2019-03-06 07:57:29</td>\n",
       "      <td>0</td>\n",
       "      <td>video</td>\n",
       "      <td>1</td>\n",
       "      <td>29</td>\n",
       "      <td>1</td>\n",
       "    </tr>\n",
       "    <tr>\n",
       "      <th>1207</th>\n",
       "      <td>100288</td>\n",
       "      <td>android</td>\n",
       "      <td>2019-03-04 07:09:57</td>\n",
       "      <td>0</td>\n",
       "      <td>video</td>\n",
       "      <td>1</td>\n",
       "      <td>37</td>\n",
       "      <td>1</td>\n",
       "    </tr>\n",
       "    <tr>\n",
       "      <th>1208</th>\n",
       "      <td>100288</td>\n",
       "      <td>android</td>\n",
       "      <td>2019-03-09 09:19:33</td>\n",
       "      <td>0</td>\n",
       "      <td>video</td>\n",
       "      <td>1</td>\n",
       "      <td>25</td>\n",
       "      <td>1</td>\n",
       "    </tr>\n",
       "    <tr>\n",
       "      <th>1209</th>\n",
       "      <td>100288</td>\n",
       "      <td>android</td>\n",
       "      <td>2019-03-09 08:38:59</td>\n",
       "      <td>0</td>\n",
       "      <td>video</td>\n",
       "      <td>1</td>\n",
       "      <td>32</td>\n",
       "      <td>1</td>\n",
       "    </tr>\n",
       "    <tr>\n",
       "      <th>1210</th>\n",
       "      <td>100288</td>\n",
       "      <td>android</td>\n",
       "      <td>2019-03-04 07:44:07</td>\n",
       "      <td>0</td>\n",
       "      <td>video</td>\n",
       "      <td>1</td>\n",
       "      <td>32</td>\n",
       "      <td>1</td>\n",
       "    </tr>\n",
       "    <tr>\n",
       "      <th>1211</th>\n",
       "      <td>100288</td>\n",
       "      <td>android</td>\n",
       "      <td>2019-03-05 00:34:08</td>\n",
       "      <td>0</td>\n",
       "      <td>video</td>\n",
       "      <td>1</td>\n",
       "      <td>23</td>\n",
       "      <td>1</td>\n",
       "    </tr>\n",
       "    <tr>\n",
       "      <th>1212</th>\n",
       "      <td>100288</td>\n",
       "      <td>android</td>\n",
       "      <td>2019-03-08 16:57:22</td>\n",
       "      <td>0</td>\n",
       "      <td>video</td>\n",
       "      <td>1</td>\n",
       "      <td>42</td>\n",
       "      <td>1</td>\n",
       "    </tr>\n",
       "    <tr>\n",
       "      <th>1213</th>\n",
       "      <td>100288</td>\n",
       "      <td>android</td>\n",
       "      <td>2019-03-05 11:20:56</td>\n",
       "      <td>0</td>\n",
       "      <td>video</td>\n",
       "      <td>1</td>\n",
       "      <td>26</td>\n",
       "      <td>1</td>\n",
       "    </tr>\n",
       "    <tr>\n",
       "      <th>1214</th>\n",
       "      <td>100288</td>\n",
       "      <td>android</td>\n",
       "      <td>2019-03-06 12:30:10</td>\n",
       "      <td>0</td>\n",
       "      <td>video</td>\n",
       "      <td>1</td>\n",
       "      <td>29</td>\n",
       "      <td>1</td>\n",
       "    </tr>\n",
       "    <tr>\n",
       "      <th>1215</th>\n",
       "      <td>100288</td>\n",
       "      <td>android</td>\n",
       "      <td>2019-03-02 19:09:16</td>\n",
       "      <td>0</td>\n",
       "      <td>video</td>\n",
       "      <td>1</td>\n",
       "      <td>21</td>\n",
       "      <td>1</td>\n",
       "    </tr>\n",
       "    <tr>\n",
       "      <th>1216</th>\n",
       "      <td>100288</td>\n",
       "      <td>android</td>\n",
       "      <td>2019-03-02 18:51:29</td>\n",
       "      <td>0</td>\n",
       "      <td>video</td>\n",
       "      <td>1</td>\n",
       "      <td>25</td>\n",
       "      <td>1</td>\n",
       "    </tr>\n",
       "    <tr>\n",
       "      <th>1217</th>\n",
       "      <td>100288</td>\n",
       "      <td>android</td>\n",
       "      <td>2019-03-02 19:10:44</td>\n",
       "      <td>1</td>\n",
       "      <td>video</td>\n",
       "      <td>1</td>\n",
       "      <td>21</td>\n",
       "      <td>1</td>\n",
       "    </tr>\n",
       "    <tr>\n",
       "      <th>1218</th>\n",
       "      <td>100288</td>\n",
       "      <td>android</td>\n",
       "      <td>2019-03-01 22:11:37</td>\n",
       "      <td>0</td>\n",
       "      <td>video</td>\n",
       "      <td>1</td>\n",
       "      <td>23</td>\n",
       "      <td>1</td>\n",
       "    </tr>\n",
       "    <tr>\n",
       "      <th>1219</th>\n",
       "      <td>100288</td>\n",
       "      <td>android</td>\n",
       "      <td>2019-03-06 10:34:59</td>\n",
       "      <td>0</td>\n",
       "      <td>video</td>\n",
       "      <td>1</td>\n",
       "      <td>23</td>\n",
       "      <td>1</td>\n",
       "    </tr>\n",
       "    <tr>\n",
       "      <th>1220</th>\n",
       "      <td>100288</td>\n",
       "      <td>android</td>\n",
       "      <td>2019-03-05 11:49:39</td>\n",
       "      <td>0</td>\n",
       "      <td>video</td>\n",
       "      <td>1</td>\n",
       "      <td>24</td>\n",
       "      <td>1</td>\n",
       "    </tr>\n",
       "    <tr>\n",
       "      <th>1221</th>\n",
       "      <td>100288</td>\n",
       "      <td>android</td>\n",
       "      <td>2019-03-06 09:51:15</td>\n",
       "      <td>0</td>\n",
       "      <td>video</td>\n",
       "      <td>1</td>\n",
       "      <td>38</td>\n",
       "      <td>1</td>\n",
       "    </tr>\n",
       "    <tr>\n",
       "      <th>1222</th>\n",
       "      <td>100288</td>\n",
       "      <td>android</td>\n",
       "      <td>2019-03-07 13:56:17</td>\n",
       "      <td>0</td>\n",
       "      <td>video</td>\n",
       "      <td>2</td>\n",
       "      <td>29</td>\n",
       "      <td>1</td>\n",
       "    </tr>\n",
       "    <tr>\n",
       "      <th>1223</th>\n",
       "      <td>100288</td>\n",
       "      <td>android</td>\n",
       "      <td>2019-03-08 18:24:52</td>\n",
       "      <td>0</td>\n",
       "      <td>video</td>\n",
       "      <td>2</td>\n",
       "      <td>40</td>\n",
       "      <td>1</td>\n",
       "    </tr>\n",
       "    <tr>\n",
       "      <th>1224</th>\n",
       "      <td>100288</td>\n",
       "      <td>android</td>\n",
       "      <td>2019-03-08 16:04:59</td>\n",
       "      <td>1</td>\n",
       "      <td>video</td>\n",
       "      <td>1</td>\n",
       "      <td>41</td>\n",
       "      <td>1</td>\n",
       "    </tr>\n",
       "    <tr>\n",
       "      <th>1225</th>\n",
       "      <td>100288</td>\n",
       "      <td>android</td>\n",
       "      <td>2019-03-08 18:24:34</td>\n",
       "      <td>0</td>\n",
       "      <td>video</td>\n",
       "      <td>1</td>\n",
       "      <td>29</td>\n",
       "      <td>1</td>\n",
       "    </tr>\n",
       "    <tr>\n",
       "      <th>1226</th>\n",
       "      <td>100288</td>\n",
       "      <td>android</td>\n",
       "      <td>2019-03-02 20:18:25</td>\n",
       "      <td>0</td>\n",
       "      <td>video</td>\n",
       "      <td>1</td>\n",
       "      <td>33</td>\n",
       "      <td>1</td>\n",
       "    </tr>\n",
       "    <tr>\n",
       "      <th>1227</th>\n",
       "      <td>100288</td>\n",
       "      <td>android</td>\n",
       "      <td>2019-03-08 17:04:08</td>\n",
       "      <td>0</td>\n",
       "      <td>video</td>\n",
       "      <td>1</td>\n",
       "      <td>45</td>\n",
       "      <td>1</td>\n",
       "    </tr>\n",
       "    <tr>\n",
       "      <th>1228</th>\n",
       "      <td>100288</td>\n",
       "      <td>android</td>\n",
       "      <td>2019-03-08 16:03:56</td>\n",
       "      <td>0</td>\n",
       "      <td>video</td>\n",
       "      <td>1</td>\n",
       "      <td>41</td>\n",
       "      <td>1</td>\n",
       "    </tr>\n",
       "    <tr>\n",
       "      <th>1229</th>\n",
       "      <td>100288</td>\n",
       "      <td>android</td>\n",
       "      <td>2019-03-04 13:32:45</td>\n",
       "      <td>0</td>\n",
       "      <td>video</td>\n",
       "      <td>1</td>\n",
       "      <td>22</td>\n",
       "      <td>1</td>\n",
       "    </tr>\n",
       "    <tr>\n",
       "      <th>1230</th>\n",
       "      <td>100288</td>\n",
       "      <td>android</td>\n",
       "      <td>2019-03-06 12:04:57</td>\n",
       "      <td>0</td>\n",
       "      <td>video</td>\n",
       "      <td>2</td>\n",
       "      <td>44</td>\n",
       "      <td>1</td>\n",
       "    </tr>\n",
       "    <tr>\n",
       "      <th>1231</th>\n",
       "      <td>100288</td>\n",
       "      <td>android</td>\n",
       "      <td>2019-03-06 13:12:07</td>\n",
       "      <td>0</td>\n",
       "      <td>video</td>\n",
       "      <td>1</td>\n",
       "      <td>53</td>\n",
       "      <td>1</td>\n",
       "    </tr>\n",
       "    <tr>\n",
       "      <th>1232</th>\n",
       "      <td>100288</td>\n",
       "      <td>android</td>\n",
       "      <td>2019-03-02 19:44:14</td>\n",
       "      <td>0</td>\n",
       "      <td>video</td>\n",
       "      <td>1</td>\n",
       "      <td>62</td>\n",
       "      <td>1</td>\n",
       "    </tr>\n",
       "    <tr>\n",
       "      <th>1233</th>\n",
       "      <td>100288</td>\n",
       "      <td>android</td>\n",
       "      <td>2019-03-09 12:39:43</td>\n",
       "      <td>0</td>\n",
       "      <td>video</td>\n",
       "      <td>1</td>\n",
       "      <td>43</td>\n",
       "      <td>1</td>\n",
       "    </tr>\n",
       "    <tr>\n",
       "      <th>1234</th>\n",
       "      <td>100288</td>\n",
       "      <td>android</td>\n",
       "      <td>2019-03-08 18:25:49</td>\n",
       "      <td>0</td>\n",
       "      <td>video</td>\n",
       "      <td>1</td>\n",
       "      <td>38</td>\n",
       "      <td>1</td>\n",
       "    </tr>\n",
       "  </tbody>\n",
       "</table>\n",
       "</div>"
      ],
      "text/plain": [
       "      device_id device_type             datetime  ev_type adv_type  region_id  \\\n",
       "1185     100288     android  2019-03-01 19:45:50        0    multi          2   \n",
       "1186     100288     android  2019-03-04 11:10:13        0    multi          2   \n",
       "1187     100288     android  2019-03-05 09:20:59        0    multi          1   \n",
       "1188     100288     android  2019-03-01 11:06:01        0    multi          1   \n",
       "1189     100288     android  2019-03-01 10:13:22        0    multi          1   \n",
       "1190     100288     android  2019-03-02 18:34:28        0    multi          2   \n",
       "1191     100288     android  2019-03-01 11:47:45        0    multi          2   \n",
       "1192     100288     android  2019-03-01 16:25:31        0    multi          1   \n",
       "1193     100288     android  2019-03-04 12:38:06        0    multi          2   \n",
       "1194     100288     android  2019-03-06 13:42:29        0    video          2   \n",
       "1195     100288     android  2019-03-04 14:58:18        0    video          1   \n",
       "1196     100288     android  2019-03-03 14:30:15        0    video          1   \n",
       "1197     100288     android  2019-03-01 09:59:50        0    video          1   \n",
       "1198     100288     android  2019-03-01 15:35:13        0    video          1   \n",
       "1199     100288     android  2019-03-01 09:32:16        0    video          1   \n",
       "1200     100288     android  2019-03-08 17:16:10        0    video          1   \n",
       "1201     100288     android  2019-03-02 17:10:37        0    video          1   \n",
       "1202     100288     android  2019-03-02 20:33:02        0    video          1   \n",
       "1203     100288     android  2019-03-01 15:36:39        1    video          1   \n",
       "1204     100288     android  2019-03-07 14:16:30        0    video          2   \n",
       "1205     100288     android  2019-03-02 15:44:47        0    video          2   \n",
       "1206     100288     android  2019-03-06 07:57:29        0    video          1   \n",
       "1207     100288     android  2019-03-04 07:09:57        0    video          1   \n",
       "1208     100288     android  2019-03-09 09:19:33        0    video          1   \n",
       "1209     100288     android  2019-03-09 08:38:59        0    video          1   \n",
       "1210     100288     android  2019-03-04 07:44:07        0    video          1   \n",
       "1211     100288     android  2019-03-05 00:34:08        0    video          1   \n",
       "1212     100288     android  2019-03-08 16:57:22        0    video          1   \n",
       "1213     100288     android  2019-03-05 11:20:56        0    video          1   \n",
       "1214     100288     android  2019-03-06 12:30:10        0    video          1   \n",
       "1215     100288     android  2019-03-02 19:09:16        0    video          1   \n",
       "1216     100288     android  2019-03-02 18:51:29        0    video          1   \n",
       "1217     100288     android  2019-03-02 19:10:44        1    video          1   \n",
       "1218     100288     android  2019-03-01 22:11:37        0    video          1   \n",
       "1219     100288     android  2019-03-06 10:34:59        0    video          1   \n",
       "1220     100288     android  2019-03-05 11:49:39        0    video          1   \n",
       "1221     100288     android  2019-03-06 09:51:15        0    video          1   \n",
       "1222     100288     android  2019-03-07 13:56:17        0    video          2   \n",
       "1223     100288     android  2019-03-08 18:24:52        0    video          2   \n",
       "1224     100288     android  2019-03-08 16:04:59        1    video          1   \n",
       "1225     100288     android  2019-03-08 18:24:34        0    video          1   \n",
       "1226     100288     android  2019-03-02 20:18:25        0    video          1   \n",
       "1227     100288     android  2019-03-08 17:04:08        0    video          1   \n",
       "1228     100288     android  2019-03-08 16:03:56        0    video          1   \n",
       "1229     100288     android  2019-03-04 13:32:45        0    video          1   \n",
       "1230     100288     android  2019-03-06 12:04:57        0    video          2   \n",
       "1231     100288     android  2019-03-06 13:12:07        0    video          1   \n",
       "1232     100288     android  2019-03-02 19:44:14        0    video          1   \n",
       "1233     100288     android  2019-03-09 12:39:43        0    video          1   \n",
       "1234     100288     android  2019-03-08 18:25:49        0    video          1   \n",
       "\n",
       "      age  gender  \n",
       "1185   12       1  \n",
       "1186    6       2  \n",
       "1187    0       0  \n",
       "1188    0       0  \n",
       "1189    0       0  \n",
       "1190    0       0  \n",
       "1191    6       2  \n",
       "1192   14       1  \n",
       "1193    6       2  \n",
       "1194   29       1  \n",
       "1195   19       1  \n",
       "1196   21       1  \n",
       "1197   25       1  \n",
       "1198   34       1  \n",
       "1199   39       1  \n",
       "1200   41       1  \n",
       "1201   40       1  \n",
       "1202   23       1  \n",
       "1203   34       1  \n",
       "1204   29       1  \n",
       "1205   29       1  \n",
       "1206   29       1  \n",
       "1207   37       1  \n",
       "1208   25       1  \n",
       "1209   32       1  \n",
       "1210   32       1  \n",
       "1211   23       1  \n",
       "1212   42       1  \n",
       "1213   26       1  \n",
       "1214   29       1  \n",
       "1215   21       1  \n",
       "1216   25       1  \n",
       "1217   21       1  \n",
       "1218   23       1  \n",
       "1219   23       1  \n",
       "1220   24       1  \n",
       "1221   38       1  \n",
       "1222   29       1  \n",
       "1223   40       1  \n",
       "1224   41       1  \n",
       "1225   29       1  \n",
       "1226   33       1  \n",
       "1227   45       1  \n",
       "1228   41       1  \n",
       "1229   22       1  \n",
       "1230   44       1  \n",
       "1231   53       1  \n",
       "1232   62       1  \n",
       "1233   43       1  \n",
       "1234   38       1  "
      ]
     },
     "execution_count": 178,
     "metadata": {},
     "output_type": "execute_result"
    }
   ],
   "source": [
    "df[df['device_id'] == 100288]"
   ]
  },
  {
   "cell_type": "markdown",
   "id": "5f78a384",
   "metadata": {},
   "source": [
    "странная штука с device_id ... почему с одного устройства 50 разных человек заходит. Возможно недостоверные данные"
   ]
  },
  {
   "cell_type": "code",
   "execution_count": null,
   "id": "e235ab75",
   "metadata": {},
   "outputs": [],
   "source": []
  },
  {
   "cell_type": "code",
   "execution_count": null,
   "id": "44ab225f",
   "metadata": {},
   "outputs": [],
   "source": []
  },
  {
   "cell_type": "markdown",
   "id": "1cb69e2c",
   "metadata": {},
   "source": [
    "### <div style='background:#2b9084;color:white;padding:0.5em;border-radius:0.2em'>Удобное время для рекламы</div>"
   ]
  },
  {
   "cell_type": "code",
   "execution_count": 290,
   "id": "4dd0d8ed",
   "metadata": {},
   "outputs": [
    {
     "data": {
      "text/html": [
       "<div>\n",
       "<style scoped>\n",
       "    .dataframe tbody tr th:only-of-type {\n",
       "        vertical-align: middle;\n",
       "    }\n",
       "\n",
       "    .dataframe tbody tr th {\n",
       "        vertical-align: top;\n",
       "    }\n",
       "\n",
       "    .dataframe thead th {\n",
       "        text-align: right;\n",
       "    }\n",
       "</style>\n",
       "<table border=\"1\" class=\"dataframe\">\n",
       "  <thead>\n",
       "    <tr style=\"text-align: right;\">\n",
       "      <th></th>\n",
       "      <th>device_id</th>\n",
       "      <th>device_type</th>\n",
       "      <th>datetime</th>\n",
       "      <th>ev_type</th>\n",
       "      <th>adv_type</th>\n",
       "      <th>region_id</th>\n",
       "      <th>age</th>\n",
       "      <th>gender</th>\n",
       "      <th>time_hour</th>\n",
       "      <th>hour</th>\n",
       "    </tr>\n",
       "  </thead>\n",
       "  <tbody>\n",
       "    <tr>\n",
       "      <th>0</th>\n",
       "      <td>100001</td>\n",
       "      <td>android</td>\n",
       "      <td>2019-03-01 15:58:02</td>\n",
       "      <td>0</td>\n",
       "      <td>multi</td>\n",
       "      <td>2</td>\n",
       "      <td>14</td>\n",
       "      <td>2</td>\n",
       "      <td>15:58:02</td>\n",
       "      <td>15</td>\n",
       "    </tr>\n",
       "    <tr>\n",
       "      <th>1</th>\n",
       "      <td>100001</td>\n",
       "      <td>android</td>\n",
       "      <td>2019-03-01 17:13:53</td>\n",
       "      <td>0</td>\n",
       "      <td>multi</td>\n",
       "      <td>2</td>\n",
       "      <td>14</td>\n",
       "      <td>2</td>\n",
       "      <td>17:13:53</td>\n",
       "      <td>17</td>\n",
       "    </tr>\n",
       "    <tr>\n",
       "      <th>2</th>\n",
       "      <td>100002</td>\n",
       "      <td>android</td>\n",
       "      <td>2019-03-01 23:13:25</td>\n",
       "      <td>0</td>\n",
       "      <td>multi</td>\n",
       "      <td>2</td>\n",
       "      <td>0</td>\n",
       "      <td>0</td>\n",
       "      <td>23:13:25</td>\n",
       "      <td>23</td>\n",
       "    </tr>\n",
       "    <tr>\n",
       "      <th>3</th>\n",
       "      <td>100002</td>\n",
       "      <td>android</td>\n",
       "      <td>2019-03-01 23:25:06</td>\n",
       "      <td>0</td>\n",
       "      <td>multi</td>\n",
       "      <td>2</td>\n",
       "      <td>0</td>\n",
       "      <td>0</td>\n",
       "      <td>23:25:06</td>\n",
       "      <td>23</td>\n",
       "    </tr>\n",
       "    <tr>\n",
       "      <th>4</th>\n",
       "      <td>100003</td>\n",
       "      <td>android</td>\n",
       "      <td>2019-03-01 15:27:53</td>\n",
       "      <td>0</td>\n",
       "      <td>multi</td>\n",
       "      <td>1</td>\n",
       "      <td>0</td>\n",
       "      <td>0</td>\n",
       "      <td>15:27:53</td>\n",
       "      <td>15</td>\n",
       "    </tr>\n",
       "    <tr>\n",
       "      <th>...</th>\n",
       "      <td>...</td>\n",
       "      <td>...</td>\n",
       "      <td>...</td>\n",
       "      <td>...</td>\n",
       "      <td>...</td>\n",
       "      <td>...</td>\n",
       "      <td>...</td>\n",
       "      <td>...</td>\n",
       "      <td>...</td>\n",
       "      <td>...</td>\n",
       "    </tr>\n",
       "    <tr>\n",
       "      <th>265398</th>\n",
       "      <td>287154</td>\n",
       "      <td>android</td>\n",
       "      <td>2019-03-08 16:23:09</td>\n",
       "      <td>0</td>\n",
       "      <td>video</td>\n",
       "      <td>2</td>\n",
       "      <td>31</td>\n",
       "      <td>1</td>\n",
       "      <td>16:23:09</td>\n",
       "      <td>16</td>\n",
       "    </tr>\n",
       "    <tr>\n",
       "      <th>265399</th>\n",
       "      <td>287155</td>\n",
       "      <td>android</td>\n",
       "      <td>2019-03-08 15:09:58</td>\n",
       "      <td>0</td>\n",
       "      <td>video</td>\n",
       "      <td>1</td>\n",
       "      <td>52</td>\n",
       "      <td>1</td>\n",
       "      <td>15:09:58</td>\n",
       "      <td>15</td>\n",
       "    </tr>\n",
       "    <tr>\n",
       "      <th>265400</th>\n",
       "      <td>287156</td>\n",
       "      <td>android</td>\n",
       "      <td>2019-03-08 18:13:27</td>\n",
       "      <td>0</td>\n",
       "      <td>video</td>\n",
       "      <td>1</td>\n",
       "      <td>20</td>\n",
       "      <td>1</td>\n",
       "      <td>18:13:27</td>\n",
       "      <td>18</td>\n",
       "    </tr>\n",
       "    <tr>\n",
       "      <th>265401</th>\n",
       "      <td>287157</td>\n",
       "      <td>android</td>\n",
       "      <td>2019-03-08 15:48:19</td>\n",
       "      <td>0</td>\n",
       "      <td>video</td>\n",
       "      <td>1</td>\n",
       "      <td>25</td>\n",
       "      <td>1</td>\n",
       "      <td>15:48:19</td>\n",
       "      <td>15</td>\n",
       "    </tr>\n",
       "    <tr>\n",
       "      <th>265402</th>\n",
       "      <td>287158</td>\n",
       "      <td>android</td>\n",
       "      <td>2019-03-08 15:17:29</td>\n",
       "      <td>0</td>\n",
       "      <td>video</td>\n",
       "      <td>2</td>\n",
       "      <td>29</td>\n",
       "      <td>1</td>\n",
       "      <td>15:17:29</td>\n",
       "      <td>15</td>\n",
       "    </tr>\n",
       "  </tbody>\n",
       "</table>\n",
       "<p>265403 rows × 10 columns</p>\n",
       "</div>"
      ],
      "text/plain": [
       "        device_id device_type             datetime  ev_type adv_type  \\\n",
       "0          100001     android  2019-03-01 15:58:02        0    multi   \n",
       "1          100001     android  2019-03-01 17:13:53        0    multi   \n",
       "2          100002     android  2019-03-01 23:13:25        0    multi   \n",
       "3          100002     android  2019-03-01 23:25:06        0    multi   \n",
       "4          100003     android  2019-03-01 15:27:53        0    multi   \n",
       "...           ...         ...                  ...      ...      ...   \n",
       "265398     287154     android  2019-03-08 16:23:09        0    video   \n",
       "265399     287155     android  2019-03-08 15:09:58        0    video   \n",
       "265400     287156     android  2019-03-08 18:13:27        0    video   \n",
       "265401     287157     android  2019-03-08 15:48:19        0    video   \n",
       "265402     287158     android  2019-03-08 15:17:29        0    video   \n",
       "\n",
       "        region_id  age  gender time_hour  hour  \n",
       "0               2   14       2  15:58:02    15  \n",
       "1               2   14       2  17:13:53    17  \n",
       "2               2    0       0  23:13:25    23  \n",
       "3               2    0       0  23:25:06    23  \n",
       "4               1    0       0  15:27:53    15  \n",
       "...           ...  ...     ...       ...   ...  \n",
       "265398          2   31       1  16:23:09    16  \n",
       "265399          1   52       1  15:09:58    15  \n",
       "265400          1   20       1  18:13:27    18  \n",
       "265401          1   25       1  15:48:19    15  \n",
       "265402          2   29       1  15:17:29    15  \n",
       "\n",
       "[265403 rows x 10 columns]"
      ]
     },
     "execution_count": 290,
     "metadata": {},
     "output_type": "execute_result"
    }
   ],
   "source": [
    "df_new = df.copy()\n",
    "# df_new[\"day_time\"] = pd.to_timedelta(df[\"datetime\"].str.split().str[1])\n",
    "df_new['time_hour'] = df_new['datetime'].apply(lambda x: x[11:])\n",
    "df_new['hour'] = df_new['time_hour'].apply(lambda x: int(x[:2]))\n",
    "df_new['time_hour'] = pd.to_datetime(df_new['time_hour'], format='%H:%M:%S').dt.time\n",
    "\n",
    "df_new"
   ]
  },
  {
   "cell_type": "code",
   "execution_count": 291,
   "id": "ef7570e3",
   "metadata": {},
   "outputs": [
    {
     "data": {
      "text/plain": [
       "(4108, 261295, 265403)"
      ]
     },
     "execution_count": 291,
     "metadata": {},
     "output_type": "execute_result"
    }
   ],
   "source": [
    "logic_h1 = df_new['ev_type'] == 1\n",
    "logic_h2 = df_new['ev_type'] == 0\n",
    "\n",
    "df_h2 = df_new[logic_h2]\n",
    "df_h1 = df_new[logic_h1]\n",
    "\n",
    "df_h1.shape[0], df_h2.shape[0], df_new.shape[0]"
   ]
  },
  {
   "cell_type": "code",
   "execution_count": null,
   "id": "90dc494f",
   "metadata": {},
   "outputs": [],
   "source": []
  },
  {
   "cell_type": "code",
   "execution_count": 297,
   "id": "5f8f1c91",
   "metadata": {},
   "outputs": [
    {
     "data": {
      "text/plain": [
       "<matplotlib.legend.Legend at 0x7f2ce23d0790>"
      ]
     },
     "execution_count": 297,
     "metadata": {},
     "output_type": "execute_result"
    },
    {
     "data": {
      "image/png": "[encoded data removed]",
      "text/plain": [
       "<Figure size 1200x800 with 1 Axes>"
      ]
     },
     "metadata": {
      "needs_background": "dark"
     },
     "output_type": "display_data"
    }
   ],
   "source": [
    "plt.hist([df_new['hour'], df_h1['hour']], bins=24)\n",
    "plt.legend(['Все данные', 'Клики'])\n",
    "# plt.hist();"
   ]
  },
  {
   "cell_type": "markdown",
   "id": "907a46c8",
   "metadata": {},
   "source": [
    "**Вывод**:\n",
    "\n",
    "    - возможно стоит перенести время показа рекламы с 20 часов по 5 утра на дневное время"
   ]
  },
  {
   "cell_type": "code",
   "execution_count": null,
   "id": "88471a3a",
   "metadata": {},
   "outputs": [],
   "source": []
  },
  {
   "cell_type": "code",
   "execution_count": null,
   "id": "863f411d",
   "metadata": {},
   "outputs": [],
   "source": []
  },
  {
   "cell_type": "code",
   "execution_count": null,
   "id": "f8b1f989",
   "metadata": {},
   "outputs": [],
   "source": []
  },
  {
   "cell_type": "code",
   "execution_count": null,
   "id": "8a423295",
   "metadata": {},
   "outputs": [],
   "source": []
  }
 ],
 "metadata": {
  "kernelspec": {
   "display_name": "Python 3",
   "language": "python",
   "name": "python3"
  },
  "language_info": {
   "codemirror_mode": {
    "name": "ipython",
    "version": 3
   },
   "file_extension": ".py",
   "mimetype": "text/x-python",
   "name": "python",
   "nbconvert_exporter": "python",
   "pygments_lexer": "ipython3",
   "version": "3.8.10"
  }
 },
 "nbformat": 4,
 "nbformat_minor": 5
}
